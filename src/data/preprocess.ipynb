{
 "cells": [
  {
   "cell_type": "code",
   "execution_count": 12,
   "metadata": {},
   "outputs": [],
   "source": [
    "import pandas as pd\n",
    "import numpy as np"
   ]
  },
  {
   "cell_type": "code",
   "execution_count": 13,
   "metadata": {},
   "outputs": [
    {
     "data": {
      "text/html": [
       "<div>\n",
       "<style scoped>\n",
       "    .dataframe tbody tr th:only-of-type {\n",
       "        vertical-align: middle;\n",
       "    }\n",
       "\n",
       "    .dataframe tbody tr th {\n",
       "        vertical-align: top;\n",
       "    }\n",
       "\n",
       "    .dataframe thead th {\n",
       "        text-align: right;\n",
       "    }\n",
       "</style>\n",
       "<table border=\"1\" class=\"dataframe\">\n",
       "  <thead>\n",
       "    <tr style=\"text-align: right;\">\n",
       "      <th></th>\n",
       "      <th>url</th>\n",
       "      <th>title</th>\n",
       "      <th>desc</th>\n",
       "      <th>label</th>\n",
       "    </tr>\n",
       "  </thead>\n",
       "  <tbody>\n",
       "    <tr>\n",
       "      <th>0</th>\n",
       "      <td>http://www.bookschina.com/6957900.htm</td>\n",
       "      <td>阿城精选集-世纪文学经典</td>\n",
       "      <td>★20世纪80年代中期，中国文坛上兴起了一股\"文化寻根\"的热潮，作家们开始致力于对传统意识、...</td>\n",
       "      <td>文学</td>\n",
       "    </tr>\n",
       "    <tr>\n",
       "      <th>1</th>\n",
       "      <td>http://www.bookschina.com/7176314.htm</td>\n",
       "      <td>奢侈的闲情</td>\n",
       "      <td>“闲情”不论是古今中外，当闲人都不易。雍正皇帝在雍邸里做亲王的时候，刻过一枚“富贵闲人”的...</td>\n",
       "      <td>文学</td>\n",
       "    </tr>\n",
       "    <tr>\n",
       "      <th>2</th>\n",
       "      <td>http://www.bookschina.com/6445178.htm</td>\n",
       "      <td>秋水堂论金瓶梅-典藏版</td>\n",
       "      <td>北京大学历史上最年轻的天才学生， 哈佛大学历史上最年轻的终身教授 田晓菲 经典代表作 我以为...</td>\n",
       "      <td>文学</td>\n",
       "    </tr>\n",
       "    <tr>\n",
       "      <th>3</th>\n",
       "      <td>http://www.bookschina.com/7291804.htm</td>\n",
       "      <td>造房子</td>\n",
       "      <td>#在宋代山水画的意境里找寻当代建筑之路，于明清园林的哲思中探求传统文化之美 著名建筑大师、普...</td>\n",
       "      <td>文学</td>\n",
       "    </tr>\n",
       "    <tr>\n",
       "      <th>4</th>\n",
       "      <td>http://www.bookschina.com/2653827.htm</td>\n",
       "      <td>先秦寓言史</td>\n",
       "      <td>本书内容有：西周中期到春秋后的寓言；战国中后期寓言文学的繁荣；浪漫主义寓言；现实主义寓言；具...</td>\n",
       "      <td>文学</td>\n",
       "    </tr>\n",
       "  </tbody>\n",
       "</table>\n",
       "</div>"
      ],
      "text/plain": [
       "                                     url         title  \\\n",
       "0  http://www.bookschina.com/6957900.htm  阿城精选集-世纪文学经典   \n",
       "1  http://www.bookschina.com/7176314.htm         奢侈的闲情   \n",
       "2  http://www.bookschina.com/6445178.htm   秋水堂论金瓶梅-典藏版   \n",
       "3  http://www.bookschina.com/7291804.htm           造房子   \n",
       "4  http://www.bookschina.com/2653827.htm         先秦寓言史   \n",
       "\n",
       "                                                desc label  \n",
       "0  ★20世纪80年代中期，中国文坛上兴起了一股\"文化寻根\"的热潮，作家们开始致力于对传统意识、...    文学  \n",
       "1   “闲情”不论是古今中外，当闲人都不易。雍正皇帝在雍邸里做亲王的时候，刻过一枚“富贵闲人”的...    文学  \n",
       "2  北京大学历史上最年轻的天才学生， 哈佛大学历史上最年轻的终身教授 田晓菲 经典代表作 我以为...    文学  \n",
       "3  #在宋代山水画的意境里找寻当代建筑之路，于明清园林的哲思中探求传统文化之美 著名建筑大师、普...    文学  \n",
       "4  本书内容有：西周中期到春秋后的寓言；战国中后期寓言文学的繁荣；浪漫主义寓言；现实主义寓言；具...    文学  "
      ]
     },
     "execution_count": 13,
     "metadata": {},
     "output_type": "execute_result"
    }
   ],
   "source": [
    "data = pd.read_csv('data/url.txt', sep='\\t', names=['url', 'title', 'desc', 'label'], header=None, error_bad_lines=False)\n",
    "data = data[data['label'].str.len() < 7]\n",
    "data.head()"
   ]
  },
  {
   "cell_type": "code",
   "execution_count": 14,
   "metadata": {},
   "outputs": [
    {
     "data": {
      "text/html": [
       "<div>\n",
       "<style scoped>\n",
       "    .dataframe tbody tr th:only-of-type {\n",
       "        vertical-align: middle;\n",
       "    }\n",
       "\n",
       "    .dataframe tbody tr th {\n",
       "        vertical-align: top;\n",
       "    }\n",
       "\n",
       "    .dataframe thead th {\n",
       "        text-align: right;\n",
       "    }\n",
       "</style>\n",
       "<table border=\"1\" class=\"dataframe\">\n",
       "  <thead>\n",
       "    <tr style=\"text-align: right;\">\n",
       "      <th></th>\n",
       "      <th>url</th>\n",
       "      <th>title</th>\n",
       "      <th>desc</th>\n",
       "      <th>label</th>\n",
       "    </tr>\n",
       "  </thead>\n",
       "  <tbody>\n",
       "    <tr>\n",
       "      <th>247275</th>\n",
       "      <td>http://www.bookschina.com/6566928.htm</td>\n",
       "      <td>1500题助你四级考试闯关成功</td>\n",
       "      <td>聚焦核心、突破四级，超重点试题，全在这本书！！ 四级成绩好；词汇不可少！ 1500精编试题，...</td>\n",
       "      <td>外语</td>\n",
       "    </tr>\n",
       "  </tbody>\n",
       "</table>\n",
       "</div>"
      ],
      "text/plain": [
       "                                          url            title  \\\n",
       "247275  http://www.bookschina.com/6566928.htm  1500题助你四级考试闯关成功   \n",
       "\n",
       "                                                     desc label  \n",
       "247275  聚焦核心、突破四级，超重点试题，全在这本书！！ 四级成绩好；词汇不可少！ 1500精编试题，...    外语  "
      ]
     },
     "execution_count": 14,
     "metadata": {},
     "output_type": "execute_result"
    }
   ],
   "source": [
    "data[data['title'] == '1500题助你四级考试闯关成功']"
   ]
  },
  {
   "cell_type": "code",
   "execution_count": 19,
   "metadata": {},
   "outputs": [],
   "source": [
    "dct = {\"文学\": \"文学\",\n",
    "        \"教材\": \"大中专教材教辅\",\n",
    "        \"少儿\": \"童书\",\n",
    "        \"工业技术\": \"工业技术\",\n",
    "        \"中小学教辅\": \"中小学教辅\",\n",
    "        \"社会科学\": \"社会科学\",\n",
    "        \"艺术\": \"艺术\",\n",
    "        \"建筑\": \"建筑\",\n",
    "        \"计算机网络\": \"计算机与互联网\",\n",
    "        \"小说\": \"小说\",\n",
    "        \"管理\": \"管理\",\n",
    "        \"自然科学\": \"科学与自然\",\n",
    "        \"外语\": \"外语学习\",\n",
    "        \"法律\": \"法律\",\n",
    "        \"历史\": \"历史\",\n",
    "        \"政治军事\": \"政治/军事\",\n",
    "        \"医学\": \"医学\",\n",
    "        \"经济\": \"经济\",\n",
    "        \"哲学宗教\": \"哲学/宗教\",\n",
    "        \"考试\": \"考试\",\n",
    "        \"成功励志\": \"励志与成功\",\n",
    "        \"文化\": \" 文化\",\n",
    "        \"农业林业\": \"农业/林业\",\n",
    "        \"传记\": \"传记\",\n",
    "        \"青春文学\": \"青春文学\",\n",
    "        \"动漫幽默\": \"动漫\",\n",
    "        \"保健心理健康\": \"健身与保健\",\n",
    "        \"古籍\": \"国学/古籍\",\n",
    "        \"家庭教育\": \"育儿/家教\",\n",
    "        \"美食\": \"烹饪/美食\",\n",
    "        \"科普读物\": \"科普读物\",\n",
    "        \"旅游\": \"旅游/地图\",\n",
    "        \"孕产妇育儿\": \"孕产/胎教\",\n",
    "        \"个人理财\": \"金融与投资\",\n",
    "        \"两性关系\": \"婚恋与两性\",\n",
    "        \"地图地理\": \"旅游/地图\"}"
   ]
  },
  {
   "cell_type": "code",
   "execution_count": 22,
   "metadata": {},
   "outputs": [],
   "source": [
    "data = data[data['label'].isin(dct.keys())].reset_index(drop=True)"
   ]
  },
  {
   "cell_type": "code",
   "execution_count": 25,
   "metadata": {},
   "outputs": [],
   "source": [
    "train, dev, test = np.split(data[['title', 'desc', 'label']].sample(frac=1), [int(0.6 * data.shape[0]), int(0.8 * data.shape[0])]) "
   ]
  },
  {
   "cell_type": "code",
   "execution_count": 29,
   "metadata": {},
   "outputs": [],
   "source": [
    "train.to_csv('./data/train.tsv', sep='\\t', index=False)\n",
    "dev.to_csv('./data/dev.tsv', sep='\\t', index=False)\n",
    "test.to_csv('./data/test.tsv', sep='\\t', index=False)"
   ]
  },
  {
   "cell_type": "code",
   "execution_count": null,
   "metadata": {},
   "outputs": [],
   "source": []
  }
 ],
 "metadata": {
  "kernelspec": {
   "display_name": "Python 3",
   "language": "python",
   "name": "python3"
  },
  "language_info": {
   "codemirror_mode": {
    "name": "ipython",
    "version": 3
   },
   "file_extension": ".py",
   "mimetype": "text/x-python",
   "name": "python",
   "nbconvert_exporter": "python",
   "pygments_lexer": "ipython3",
   "version": "3.6.7"
  }
 },
 "nbformat": 4,
 "nbformat_minor": 2
}
